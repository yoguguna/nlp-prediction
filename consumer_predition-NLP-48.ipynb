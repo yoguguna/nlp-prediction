{
 "cells": [
  {
   "cell_type": "code",
   "execution_count": 1,
   "id": "10b6ba8e",
   "metadata": {},
   "outputs": [],
   "source": [
    "from sklearn.feature_extraction.text import TfidfVectorizer\n",
    "from sklearn.model_selection import train_test_split, cross_val_score\n",
    "from sklearn.preprocessing import LabelEncoder\n",
    "from sklearn.ensemble import RandomForestClassifier\n",
    "import pandas as pd"
   ]
  },
  {
   "cell_type": "code",
   "execution_count": 6,
   "id": "84d625be",
   "metadata": {},
   "outputs": [
    {
     "data": {
      "text/html": [
       "<div>\n",
       "<style scoped>\n",
       "    .dataframe tbody tr th:only-of-type {\n",
       "        vertical-align: middle;\n",
       "    }\n",
       "\n",
       "    .dataframe tbody tr th {\n",
       "        vertical-align: top;\n",
       "    }\n",
       "\n",
       "    .dataframe thead th {\n",
       "        text-align: right;\n",
       "    }\n",
       "</style>\n",
       "<table border=\"1\" class=\"dataframe\">\n",
       "  <thead>\n",
       "    <tr style=\"text-align: right;\">\n",
       "      <th></th>\n",
       "      <th>Unnamed: 0</th>\n",
       "      <th>product</th>\n",
       "      <th>narrative</th>\n",
       "    </tr>\n",
       "  </thead>\n",
       "  <tbody>\n",
       "    <tr>\n",
       "      <th>0</th>\n",
       "      <td>0</td>\n",
       "      <td>credit_card</td>\n",
       "      <td>purchase order day shipping amount receive pro...</td>\n",
       "    </tr>\n",
       "    <tr>\n",
       "      <th>1</th>\n",
       "      <td>1</td>\n",
       "      <td>credit_card</td>\n",
       "      <td>forwarded message date tue subject please inve...</td>\n",
       "    </tr>\n",
       "    <tr>\n",
       "      <th>2</th>\n",
       "      <td>2</td>\n",
       "      <td>retail_banking</td>\n",
       "      <td>forwarded message cc sent friday pdt subject f...</td>\n",
       "    </tr>\n",
       "    <tr>\n",
       "      <th>3</th>\n",
       "      <td>3</td>\n",
       "      <td>credit_reporting</td>\n",
       "      <td>payment history missing credit report speciali...</td>\n",
       "    </tr>\n",
       "    <tr>\n",
       "      <th>4</th>\n",
       "      <td>4</td>\n",
       "      <td>credit_reporting</td>\n",
       "      <td>payment history missing credit report made mis...</td>\n",
       "    </tr>\n",
       "    <tr>\n",
       "      <th>5</th>\n",
       "      <td>5</td>\n",
       "      <td>credit_reporting</td>\n",
       "      <td>payment history missing credit report made mis...</td>\n",
       "    </tr>\n",
       "    <tr>\n",
       "      <th>6</th>\n",
       "      <td>6</td>\n",
       "      <td>credit_reporting</td>\n",
       "      <td>va date complaint experian credit bureau invol...</td>\n",
       "    </tr>\n",
       "    <tr>\n",
       "      <th>7</th>\n",
       "      <td>7</td>\n",
       "      <td>credit_reporting</td>\n",
       "      <td>account reported abbreviated name full name se...</td>\n",
       "    </tr>\n",
       "    <tr>\n",
       "      <th>8</th>\n",
       "      <td>8</td>\n",
       "      <td>credit_reporting</td>\n",
       "      <td>account reported abbreviated name full name se...</td>\n",
       "    </tr>\n",
       "    <tr>\n",
       "      <th>9</th>\n",
       "      <td>9</td>\n",
       "      <td>credit_reporting</td>\n",
       "      <td>usdoexxxx account reported abbreviated name fu...</td>\n",
       "    </tr>\n",
       "  </tbody>\n",
       "</table>\n",
       "</div>"
      ],
      "text/plain": [
       "   Unnamed: 0           product  \\\n",
       "0           0       credit_card   \n",
       "1           1       credit_card   \n",
       "2           2    retail_banking   \n",
       "3           3  credit_reporting   \n",
       "4           4  credit_reporting   \n",
       "5           5  credit_reporting   \n",
       "6           6  credit_reporting   \n",
       "7           7  credit_reporting   \n",
       "8           8  credit_reporting   \n",
       "9           9  credit_reporting   \n",
       "\n",
       "                                           narrative  \n",
       "0  purchase order day shipping amount receive pro...  \n",
       "1  forwarded message date tue subject please inve...  \n",
       "2  forwarded message cc sent friday pdt subject f...  \n",
       "3  payment history missing credit report speciali...  \n",
       "4  payment history missing credit report made mis...  \n",
       "5  payment history missing credit report made mis...  \n",
       "6  va date complaint experian credit bureau invol...  \n",
       "7  account reported abbreviated name full name se...  \n",
       "8  account reported abbreviated name full name se...  \n",
       "9  usdoexxxx account reported abbreviated name fu...  "
      ]
     },
     "execution_count": 6,
     "metadata": {},
     "output_type": "execute_result"
    }
   ],
   "source": [
    "df_full = pd.read_csv('complaints_processed.csv')\n",
    "df_full.head(10)"
   ]
  },
  {
   "cell_type": "code",
   "execution_count": 7,
   "id": "e552457a",
   "metadata": {},
   "outputs": [
    {
     "data": {
      "text/plain": [
       "5"
      ]
     },
     "execution_count": 7,
     "metadata": {},
     "output_type": "execute_result"
    }
   ],
   "source": [
    "df_full['product'].nunique()"
   ]
  },
  {
   "cell_type": "code",
   "execution_count": 8,
   "id": "362de7e4",
   "metadata": {},
   "outputs": [
    {
     "name": "stdout",
     "output_type": "stream",
     "text": [
      "Shape of data (162421, 3)\n"
     ]
    }
   ],
   "source": [
    "print('Shape of data',df_full.shape)"
   ]
  },
  {
   "cell_type": "code",
   "execution_count": 13,
   "id": "7951ef54",
   "metadata": {},
   "outputs": [
    {
     "name": "stdout",
     "output_type": "stream",
     "text": [
      "Before dropping the nulls\n"
     ]
    },
    {
     "data": {
      "text/plain": [
       "'Null count'"
      ]
     },
     "metadata": {},
     "output_type": "display_data"
    },
    {
     "data": {
      "text/plain": [
       "narrative    10\n",
       "product       0\n",
       "dtype: int64"
      ]
     },
     "metadata": {},
     "output_type": "display_data"
    },
    {
     "name": "stdout",
     "output_type": "stream",
     "text": [
      "Total rows of data 162421\n",
      "================================================================================\n",
      "After dropping the nulls\n"
     ]
    },
    {
     "name": "stderr",
     "output_type": "stream",
     "text": [
      "C:\\Users\\yoges\\AppData\\Local\\Temp\\ipykernel_13476\\3675574101.py:4: SettingWithCopyWarning: \n",
      "A value is trying to be set on a copy of a slice from a DataFrame\n",
      "\n",
      "See the caveats in the documentation: https://pandas.pydata.org/pandas-docs/stable/user_guide/indexing.html#returning-a-view-versus-a-copy\n",
      "  df.dropna(inplace=True)\n"
     ]
    },
    {
     "data": {
      "text/plain": [
       "'Null count'"
      ]
     },
     "metadata": {},
     "output_type": "display_data"
    },
    {
     "data": {
      "text/plain": [
       "narrative    0\n",
       "product      0\n",
       "dtype: int64"
      ]
     },
     "metadata": {},
     "output_type": "display_data"
    },
    {
     "name": "stdout",
     "output_type": "stream",
     "text": [
      "Total rows of data 162411\n"
     ]
    }
   ],
   "source": [
    "print('Before dropping the nulls')\n",
    "display('Null count', df.isna().sum())\n",
    "print('Total rows of data', len(df))\n",
    "df.dropna(inplace=True)\n",
    "print('='*80)\n",
    "print('After dropping the nulls')\n",
    "display('Null count', df.isna().sum())\n",
    "print('Total rows of data', len(df))"
   ]
  },
  {
   "cell_type": "code",
   "execution_count": 14,
   "id": "9223b629",
   "metadata": {},
   "outputs": [
    {
     "data": {
      "text/html": [
       "<div>\n",
       "<style scoped>\n",
       "    .dataframe tbody tr th:only-of-type {\n",
       "        vertical-align: middle;\n",
       "    }\n",
       "\n",
       "    .dataframe tbody tr th {\n",
       "        vertical-align: top;\n",
       "    }\n",
       "\n",
       "    .dataframe thead th {\n",
       "        text-align: right;\n",
       "    }\n",
       "</style>\n",
       "<table border=\"1\" class=\"dataframe\">\n",
       "  <thead>\n",
       "    <tr style=\"text-align: right;\">\n",
       "      <th></th>\n",
       "      <th>narrative</th>\n",
       "      <th>product</th>\n",
       "    </tr>\n",
       "  </thead>\n",
       "  <tbody>\n",
       "    <tr>\n",
       "      <th>0</th>\n",
       "      <td>purchase order day shipping amount receive pro...</td>\n",
       "      <td>credit_card</td>\n",
       "    </tr>\n",
       "    <tr>\n",
       "      <th>1</th>\n",
       "      <td>forwarded message date tue subject please inve...</td>\n",
       "      <td>credit_card</td>\n",
       "    </tr>\n",
       "    <tr>\n",
       "      <th>2</th>\n",
       "      <td>forwarded message cc sent friday pdt subject f...</td>\n",
       "      <td>retail_banking</td>\n",
       "    </tr>\n",
       "    <tr>\n",
       "      <th>3</th>\n",
       "      <td>payment history missing credit report speciali...</td>\n",
       "      <td>credit_reporting</td>\n",
       "    </tr>\n",
       "    <tr>\n",
       "      <th>4</th>\n",
       "      <td>payment history missing credit report made mis...</td>\n",
       "      <td>credit_reporting</td>\n",
       "    </tr>\n",
       "  </tbody>\n",
       "</table>\n",
       "</div>"
      ],
      "text/plain": [
       "                                           narrative           product\n",
       "0  purchase order day shipping amount receive pro...       credit_card\n",
       "1  forwarded message date tue subject please inve...       credit_card\n",
       "2  forwarded message cc sent friday pdt subject f...    retail_banking\n",
       "3  payment history missing credit report speciali...  credit_reporting\n",
       "4  payment history missing credit report made mis...  credit_reporting"
      ]
     },
     "metadata": {},
     "output_type": "display_data"
    },
    {
     "data": {
      "text/html": [
       "<div>\n",
       "<style scoped>\n",
       "    .dataframe tbody tr th:only-of-type {\n",
       "        vertical-align: middle;\n",
       "    }\n",
       "\n",
       "    .dataframe tbody tr th {\n",
       "        vertical-align: top;\n",
       "    }\n",
       "\n",
       "    .dataframe thead th {\n",
       "        text-align: right;\n",
       "    }\n",
       "</style>\n",
       "<table border=\"1\" class=\"dataframe\">\n",
       "  <thead>\n",
       "    <tr style=\"text-align: right;\">\n",
       "      <th></th>\n",
       "      <th>narrative</th>\n",
       "      <th>product</th>\n",
       "    </tr>\n",
       "  </thead>\n",
       "  <tbody>\n",
       "    <tr>\n",
       "      <th>995</th>\n",
       "      <td>bank america add hard inquiry credit report pe...</td>\n",
       "      <td>credit_reporting</td>\n",
       "    </tr>\n",
       "    <tr>\n",
       "      <th>996</th>\n",
       "      <td>opened premium checking bundle advertised main...</td>\n",
       "      <td>retail_banking</td>\n",
       "    </tr>\n",
       "    <tr>\n",
       "      <th>997</th>\n",
       "      <td>opened premium checking bundle advertised main...</td>\n",
       "      <td>retail_banking</td>\n",
       "    </tr>\n",
       "    <tr>\n",
       "      <th>998</th>\n",
       "      <td>original account number date original account ...</td>\n",
       "      <td>debt_collection</td>\n",
       "    </tr>\n",
       "    <tr>\n",
       "      <th>999</th>\n",
       "      <td>please provide actual credit card contract upo...</td>\n",
       "      <td>debt_collection</td>\n",
       "    </tr>\n",
       "  </tbody>\n",
       "</table>\n",
       "</div>"
      ],
      "text/plain": [
       "                                             narrative           product\n",
       "995  bank america add hard inquiry credit report pe...  credit_reporting\n",
       "996  opened premium checking bundle advertised main...    retail_banking\n",
       "997  opened premium checking bundle advertised main...    retail_banking\n",
       "998  original account number date original account ...   debt_collection\n",
       "999  please provide actual credit card contract upo...   debt_collection"
      ]
     },
     "metadata": {},
     "output_type": "display_data"
    }
   ],
   "source": [
    "df=df.head(1000).reset_index(drop=True)\n",
    "display(df.head())\n",
    "display(df.tail())"
   ]
  },
  {
   "cell_type": "code",
   "execution_count": 17,
   "id": "42481fde",
   "metadata": {},
   "outputs": [
    {
     "data": {
      "text/plain": [
       "'purchase order day shipping amount receive product week sent followup email exact verbiage paid two day shipping received order company responded im sorry inform due unusually high order volume order shipped several week stock since early due high demand although continuing take order guaranteeing receive order place due time mask order exact shipping date right however guarantee ship soon soon delivers product u getting small shipment shipping first come first served basis appreciate patience fulfill order quickly recommend keeping order lose place line cancel distributor stock moment prefer cancel please note ask via email cancel accordance cancellation policy agreed checkout electronic inventory online requested order canceled refund issued canceled order sent verification order canceled refunded item particulate respirator refunded subtotal shipping tax total usd visa ending refund called disputed amount stated nothing needed submitted address issue recharged item removing called back dispute amount transaction rebillmerchandiserobert ca purchased thu posted wed purchased appears statement transaction rebill ca u followed see status case submitted documentation showing canceled order supposed submit refund called back speak manager case stated dispute ruled favor charge removed card capital one removed purchase bill purchase adjustmentmerchandiserobert j posted fri purchased appears statement purchase adjustment capital one recharges amount transaction rebillmerchandiserobert j purchased thu posted mon purchased appears statement transaction rebill called capital one requested recharge stated visa ruled case pretended remove purchase knew anything case manager ruling favor'"
      ]
     },
     "execution_count": 17,
     "metadata": {},
     "output_type": "execute_result"
    }
   ],
   "source": [
    "df['narrative'][0]"
   ]
  },
  {
   "cell_type": "code",
   "execution_count": 21,
   "id": "dc45ac05",
   "metadata": {},
   "outputs": [
    {
     "data": {
      "text/plain": [
       "credit_reporting       619\n",
       "debt_collection        114\n",
       "mortgages_and_loans    109\n",
       "retail_banking          80\n",
       "credit_card             78\n",
       "Name: product, dtype: int64"
      ]
     },
     "execution_count": 21,
     "metadata": {},
     "output_type": "execute_result"
    }
   ],
   "source": [
    "df['product'].value_counts()"
   ]
  },
  {
   "cell_type": "code",
   "execution_count": 23,
   "id": "df7baac9",
   "metadata": {},
   "outputs": [
    {
     "name": "stdout",
     "output_type": "stream",
     "text": [
      "Training utterances: 750 of shape (750,)\n",
      "Validation utterances: 250 of shape (250,)\n"
     ]
    }
   ],
   "source": [
    "X_train, X_test, y_train, y_test = train_test_split( df['narrative'], df['product'],  test_size=0.25, random_state=0, stratify=df['product'])\n",
    "print(f'Training utterances: {len(X_train)} of shape {X_train.shape}')\n",
    "print(f'Validation utterances: {len(X_test)} of shape {X_test.shape}')\n"
   ]
  },
  {
   "cell_type": "code",
   "execution_count": 25,
   "id": "7f9bb658",
   "metadata": {},
   "outputs": [
    {
     "data": {
      "text/plain": [
       "(<750x4616 sparse matrix of type '<class 'numpy.float64'>'\n",
       " \twith 61888 stored elements in Compressed Sparse Row format>,\n",
       " <250x4616 sparse matrix of type '<class 'numpy.float64'>'\n",
       " \twith 19966 stored elements in Compressed Sparse Row format>)"
      ]
     },
     "execution_count": 25,
     "metadata": {},
     "output_type": "execute_result"
    }
   ],
   "source": [
    "vectorizer = TfidfVectorizer(stop_words= 'english')\n",
    "# convert the documents into a matrix\n",
    "X_train_vec = vectorizer.fit_transform(X_train)\n",
    "X_test_vec  = vectorizer.transform(X_test)\n",
    "X_train_vec, X_test_vec"
   ]
  },
  {
   "cell_type": "code",
   "execution_count": 26,
   "id": "3c1eaf98",
   "metadata": {},
   "outputs": [
    {
     "data": {
      "text/plain": [
       "(<750x100 sparse matrix of type '<class 'numpy.float64'>'\n",
       " \twith 6002 stored elements in Compressed Sparse Row format>,\n",
       " <250x100 sparse matrix of type '<class 'numpy.float64'>'\n",
       " \twith 1994 stored elements in Compressed Sparse Row format>)"
      ]
     },
     "execution_count": 26,
     "metadata": {},
     "output_type": "execute_result"
    }
   ],
   "source": [
    "from sklearn.feature_selection import SelectKBest, chi2\n",
    "\n",
    "n_features=100\n",
    "\n",
    "ch2 = SelectKBest(chi2, k=n_features)\n",
    "X_train_sp = ch2.fit_transform(X_train_vec, y_train)\n",
    "X_test_sp  = ch2.transform(X_test_vec)\n",
    "\n",
    "X_train_sp, X_test_sp"
   ]
  },
  {
   "cell_type": "code",
   "execution_count": 27,
   "id": "07cb1ba8",
   "metadata": {},
   "outputs": [
    {
     "name": "stdout",
     "output_type": "stream",
     "text": [
      "(750, 100) (250, 100)\n"
     ]
    },
    {
     "data": {
      "text/html": [
       "<div>\n",
       "<style scoped>\n",
       "    .dataframe tbody tr th:only-of-type {\n",
       "        vertical-align: middle;\n",
       "    }\n",
       "\n",
       "    .dataframe tbody tr th {\n",
       "        vertical-align: top;\n",
       "    }\n",
       "\n",
       "    .dataframe thead th {\n",
       "        text-align: right;\n",
       "    }\n",
       "</style>\n",
       "<table border=\"1\" class=\"dataframe\">\n",
       "  <thead>\n",
       "    <tr style=\"text-align: right;\">\n",
       "      <th></th>\n",
       "      <th>0</th>\n",
       "      <th>1</th>\n",
       "      <th>2</th>\n",
       "      <th>3</th>\n",
       "      <th>4</th>\n",
       "      <th>5</th>\n",
       "      <th>6</th>\n",
       "      <th>7</th>\n",
       "      <th>8</th>\n",
       "      <th>9</th>\n",
       "      <th>...</th>\n",
       "      <th>90</th>\n",
       "      <th>91</th>\n",
       "      <th>92</th>\n",
       "      <th>93</th>\n",
       "      <th>94</th>\n",
       "      <th>95</th>\n",
       "      <th>96</th>\n",
       "      <th>97</th>\n",
       "      <th>98</th>\n",
       "      <th>99</th>\n",
       "    </tr>\n",
       "  </thead>\n",
       "  <tbody>\n",
       "    <tr>\n",
       "      <th>0</th>\n",
       "      <td>0.0</td>\n",
       "      <td>0.257168</td>\n",
       "      <td>0.0</td>\n",
       "      <td>0.0</td>\n",
       "      <td>0.0</td>\n",
       "      <td>0.0</td>\n",
       "      <td>0.0</td>\n",
       "      <td>0.0</td>\n",
       "      <td>0.00000</td>\n",
       "      <td>0.0</td>\n",
       "      <td>...</td>\n",
       "      <td>0.000000</td>\n",
       "      <td>0.131667</td>\n",
       "      <td>0.00000</td>\n",
       "      <td>0.000000</td>\n",
       "      <td>0.00000</td>\n",
       "      <td>0.0</td>\n",
       "      <td>0.0</td>\n",
       "      <td>0.0</td>\n",
       "      <td>0.0</td>\n",
       "      <td>0.0</td>\n",
       "    </tr>\n",
       "    <tr>\n",
       "      <th>1</th>\n",
       "      <td>0.0</td>\n",
       "      <td>0.000000</td>\n",
       "      <td>0.0</td>\n",
       "      <td>0.0</td>\n",
       "      <td>0.0</td>\n",
       "      <td>0.0</td>\n",
       "      <td>0.0</td>\n",
       "      <td>0.0</td>\n",
       "      <td>0.00000</td>\n",
       "      <td>0.0</td>\n",
       "      <td>...</td>\n",
       "      <td>0.173167</td>\n",
       "      <td>0.000000</td>\n",
       "      <td>0.02196</td>\n",
       "      <td>0.000000</td>\n",
       "      <td>0.00000</td>\n",
       "      <td>0.0</td>\n",
       "      <td>0.0</td>\n",
       "      <td>0.0</td>\n",
       "      <td>0.0</td>\n",
       "      <td>0.0</td>\n",
       "    </tr>\n",
       "    <tr>\n",
       "      <th>2</th>\n",
       "      <td>0.0</td>\n",
       "      <td>0.000000</td>\n",
       "      <td>0.0</td>\n",
       "      <td>0.0</td>\n",
       "      <td>0.0</td>\n",
       "      <td>0.0</td>\n",
       "      <td>0.0</td>\n",
       "      <td>0.0</td>\n",
       "      <td>0.00000</td>\n",
       "      <td>0.0</td>\n",
       "      <td>...</td>\n",
       "      <td>0.000000</td>\n",
       "      <td>0.000000</td>\n",
       "      <td>0.00000</td>\n",
       "      <td>0.000000</td>\n",
       "      <td>0.00000</td>\n",
       "      <td>0.0</td>\n",
       "      <td>0.0</td>\n",
       "      <td>0.0</td>\n",
       "      <td>0.0</td>\n",
       "      <td>0.0</td>\n",
       "    </tr>\n",
       "    <tr>\n",
       "      <th>3</th>\n",
       "      <td>0.0</td>\n",
       "      <td>0.000000</td>\n",
       "      <td>0.0</td>\n",
       "      <td>0.0</td>\n",
       "      <td>0.0</td>\n",
       "      <td>0.0</td>\n",
       "      <td>0.0</td>\n",
       "      <td>0.0</td>\n",
       "      <td>0.00000</td>\n",
       "      <td>0.0</td>\n",
       "      <td>...</td>\n",
       "      <td>0.000000</td>\n",
       "      <td>0.148599</td>\n",
       "      <td>0.00000</td>\n",
       "      <td>0.000000</td>\n",
       "      <td>0.00000</td>\n",
       "      <td>0.0</td>\n",
       "      <td>0.0</td>\n",
       "      <td>0.0</td>\n",
       "      <td>0.0</td>\n",
       "      <td>0.0</td>\n",
       "    </tr>\n",
       "    <tr>\n",
       "      <th>4</th>\n",
       "      <td>0.0</td>\n",
       "      <td>0.000000</td>\n",
       "      <td>0.0</td>\n",
       "      <td>0.0</td>\n",
       "      <td>0.0</td>\n",
       "      <td>0.0</td>\n",
       "      <td>0.0</td>\n",
       "      <td>0.0</td>\n",
       "      <td>0.00000</td>\n",
       "      <td>0.0</td>\n",
       "      <td>...</td>\n",
       "      <td>0.000000</td>\n",
       "      <td>0.000000</td>\n",
       "      <td>0.00000</td>\n",
       "      <td>0.000000</td>\n",
       "      <td>0.00000</td>\n",
       "      <td>0.0</td>\n",
       "      <td>0.0</td>\n",
       "      <td>0.0</td>\n",
       "      <td>0.0</td>\n",
       "      <td>0.0</td>\n",
       "    </tr>\n",
       "    <tr>\n",
       "      <th>...</th>\n",
       "      <td>...</td>\n",
       "      <td>...</td>\n",
       "      <td>...</td>\n",
       "      <td>...</td>\n",
       "      <td>...</td>\n",
       "      <td>...</td>\n",
       "      <td>...</td>\n",
       "      <td>...</td>\n",
       "      <td>...</td>\n",
       "      <td>...</td>\n",
       "      <td>...</td>\n",
       "      <td>...</td>\n",
       "      <td>...</td>\n",
       "      <td>...</td>\n",
       "      <td>...</td>\n",
       "      <td>...</td>\n",
       "      <td>...</td>\n",
       "      <td>...</td>\n",
       "      <td>...</td>\n",
       "      <td>...</td>\n",
       "      <td>...</td>\n",
       "    </tr>\n",
       "    <tr>\n",
       "      <th>745</th>\n",
       "      <td>0.0</td>\n",
       "      <td>0.000000</td>\n",
       "      <td>0.0</td>\n",
       "      <td>0.0</td>\n",
       "      <td>0.0</td>\n",
       "      <td>0.0</td>\n",
       "      <td>0.0</td>\n",
       "      <td>0.0</td>\n",
       "      <td>0.08686</td>\n",
       "      <td>0.0</td>\n",
       "      <td>...</td>\n",
       "      <td>0.000000</td>\n",
       "      <td>0.000000</td>\n",
       "      <td>0.00000</td>\n",
       "      <td>0.000000</td>\n",
       "      <td>0.00000</td>\n",
       "      <td>0.0</td>\n",
       "      <td>0.0</td>\n",
       "      <td>0.0</td>\n",
       "      <td>0.0</td>\n",
       "      <td>0.0</td>\n",
       "    </tr>\n",
       "    <tr>\n",
       "      <th>746</th>\n",
       "      <td>0.0</td>\n",
       "      <td>0.000000</td>\n",
       "      <td>0.0</td>\n",
       "      <td>0.0</td>\n",
       "      <td>0.0</td>\n",
       "      <td>0.0</td>\n",
       "      <td>0.0</td>\n",
       "      <td>0.0</td>\n",
       "      <td>0.00000</td>\n",
       "      <td>0.0</td>\n",
       "      <td>...</td>\n",
       "      <td>0.000000</td>\n",
       "      <td>0.000000</td>\n",
       "      <td>0.00000</td>\n",
       "      <td>0.108912</td>\n",
       "      <td>0.63619</td>\n",
       "      <td>0.0</td>\n",
       "      <td>0.0</td>\n",
       "      <td>0.0</td>\n",
       "      <td>0.0</td>\n",
       "      <td>0.0</td>\n",
       "    </tr>\n",
       "    <tr>\n",
       "      <th>747</th>\n",
       "      <td>0.0</td>\n",
       "      <td>0.074937</td>\n",
       "      <td>0.0</td>\n",
       "      <td>0.0</td>\n",
       "      <td>0.0</td>\n",
       "      <td>0.0</td>\n",
       "      <td>0.0</td>\n",
       "      <td>0.0</td>\n",
       "      <td>0.00000</td>\n",
       "      <td>0.0</td>\n",
       "      <td>...</td>\n",
       "      <td>0.000000</td>\n",
       "      <td>0.076733</td>\n",
       "      <td>0.00000</td>\n",
       "      <td>0.000000</td>\n",
       "      <td>0.00000</td>\n",
       "      <td>0.0</td>\n",
       "      <td>0.0</td>\n",
       "      <td>0.0</td>\n",
       "      <td>0.0</td>\n",
       "      <td>0.0</td>\n",
       "    </tr>\n",
       "    <tr>\n",
       "      <th>748</th>\n",
       "      <td>0.0</td>\n",
       "      <td>0.000000</td>\n",
       "      <td>0.0</td>\n",
       "      <td>0.0</td>\n",
       "      <td>0.0</td>\n",
       "      <td>0.0</td>\n",
       "      <td>0.0</td>\n",
       "      <td>0.0</td>\n",
       "      <td>0.00000</td>\n",
       "      <td>0.0</td>\n",
       "      <td>...</td>\n",
       "      <td>0.000000</td>\n",
       "      <td>0.000000</td>\n",
       "      <td>0.00000</td>\n",
       "      <td>0.000000</td>\n",
       "      <td>0.00000</td>\n",
       "      <td>0.0</td>\n",
       "      <td>0.0</td>\n",
       "      <td>0.0</td>\n",
       "      <td>0.0</td>\n",
       "      <td>0.0</td>\n",
       "    </tr>\n",
       "    <tr>\n",
       "      <th>749</th>\n",
       "      <td>0.0</td>\n",
       "      <td>0.257168</td>\n",
       "      <td>0.0</td>\n",
       "      <td>0.0</td>\n",
       "      <td>0.0</td>\n",
       "      <td>0.0</td>\n",
       "      <td>0.0</td>\n",
       "      <td>0.0</td>\n",
       "      <td>0.00000</td>\n",
       "      <td>0.0</td>\n",
       "      <td>...</td>\n",
       "      <td>0.000000</td>\n",
       "      <td>0.131667</td>\n",
       "      <td>0.00000</td>\n",
       "      <td>0.000000</td>\n",
       "      <td>0.00000</td>\n",
       "      <td>0.0</td>\n",
       "      <td>0.0</td>\n",
       "      <td>0.0</td>\n",
       "      <td>0.0</td>\n",
       "      <td>0.0</td>\n",
       "    </tr>\n",
       "  </tbody>\n",
       "</table>\n",
       "<p>750 rows × 100 columns</p>\n",
       "</div>"
      ],
      "text/plain": [
       "      0         1    2    3    4    5    6    7        8    9   ...        90  \\\n",
       "0    0.0  0.257168  0.0  0.0  0.0  0.0  0.0  0.0  0.00000  0.0  ...  0.000000   \n",
       "1    0.0  0.000000  0.0  0.0  0.0  0.0  0.0  0.0  0.00000  0.0  ...  0.173167   \n",
       "2    0.0  0.000000  0.0  0.0  0.0  0.0  0.0  0.0  0.00000  0.0  ...  0.000000   \n",
       "3    0.0  0.000000  0.0  0.0  0.0  0.0  0.0  0.0  0.00000  0.0  ...  0.000000   \n",
       "4    0.0  0.000000  0.0  0.0  0.0  0.0  0.0  0.0  0.00000  0.0  ...  0.000000   \n",
       "..   ...       ...  ...  ...  ...  ...  ...  ...      ...  ...  ...       ...   \n",
       "745  0.0  0.000000  0.0  0.0  0.0  0.0  0.0  0.0  0.08686  0.0  ...  0.000000   \n",
       "746  0.0  0.000000  0.0  0.0  0.0  0.0  0.0  0.0  0.00000  0.0  ...  0.000000   \n",
       "747  0.0  0.074937  0.0  0.0  0.0  0.0  0.0  0.0  0.00000  0.0  ...  0.000000   \n",
       "748  0.0  0.000000  0.0  0.0  0.0  0.0  0.0  0.0  0.00000  0.0  ...  0.000000   \n",
       "749  0.0  0.257168  0.0  0.0  0.0  0.0  0.0  0.0  0.00000  0.0  ...  0.000000   \n",
       "\n",
       "           91       92        93       94   95   96   97   98   99  \n",
       "0    0.131667  0.00000  0.000000  0.00000  0.0  0.0  0.0  0.0  0.0  \n",
       "1    0.000000  0.02196  0.000000  0.00000  0.0  0.0  0.0  0.0  0.0  \n",
       "2    0.000000  0.00000  0.000000  0.00000  0.0  0.0  0.0  0.0  0.0  \n",
       "3    0.148599  0.00000  0.000000  0.00000  0.0  0.0  0.0  0.0  0.0  \n",
       "4    0.000000  0.00000  0.000000  0.00000  0.0  0.0  0.0  0.0  0.0  \n",
       "..        ...      ...       ...      ...  ...  ...  ...  ...  ...  \n",
       "745  0.000000  0.00000  0.000000  0.00000  0.0  0.0  0.0  0.0  0.0  \n",
       "746  0.000000  0.00000  0.108912  0.63619  0.0  0.0  0.0  0.0  0.0  \n",
       "747  0.076733  0.00000  0.000000  0.00000  0.0  0.0  0.0  0.0  0.0  \n",
       "748  0.000000  0.00000  0.000000  0.00000  0.0  0.0  0.0  0.0  0.0  \n",
       "749  0.131667  0.00000  0.000000  0.00000  0.0  0.0  0.0  0.0  0.0  \n",
       "\n",
       "[750 rows x 100 columns]"
      ]
     },
     "execution_count": 27,
     "metadata": {},
     "output_type": "execute_result"
    }
   ],
   "source": [
    "cols = list(range(n_features))\n",
    "\n",
    "X_train_dense = pd.DataFrame(data=X_train_sp.toarray(), columns=cols)\n",
    "X_test_dense  = pd.DataFrame(data=X_test_sp.toarray(), columns=cols)\n",
    "print(X_train_dense.shape, X_test_dense.shape)\n",
    "X_train_dense"
   ]
  },
  {
   "cell_type": "code",
   "execution_count": 29,
   "id": "fc70c1eb",
   "metadata": {},
   "outputs": [
    {
     "data": {
      "text/plain": [
       "(0, 4, 0, 4)"
      ]
     },
     "execution_count": 29,
     "metadata": {},
     "output_type": "execute_result"
    }
   ],
   "source": [
    "encoder = LabelEncoder()\n",
    "y_train_num  = encoder.fit_transform(y_train)\n",
    "y_test_num   = encoder.transform(y_test)\n",
    "y_train_num.min(), y_train_num.max(), y_test_num.min(), y_test_num.max() "
   ]
  },
  {
   "cell_type": "code",
   "execution_count": 30,
   "id": "61fbef03",
   "metadata": {},
   "outputs": [
    {
     "name": "stdout",
     "output_type": "stream",
     "text": [
      "Text   Encoding\n",
      "--------------------------------------------------\n",
      "1      credit_reporting\n",
      "4      retail_banking\n",
      "1      credit_reporting\n",
      "1      credit_reporting\n",
      "2      debt_collection\n"
     ]
    }
   ],
   "source": [
    "n=5\n",
    "print('Text   Encoding')\n",
    "print('-'*50)\n",
    "for p,q in zip(y_train[:n].values,y_train_num):\n",
    "    print(f'{q}      {p}')"
   ]
  },
  {
   "cell_type": "code",
   "execution_count": 33,
   "id": "3c5422b3",
   "metadata": {},
   "outputs": [
    {
     "data": {
      "text/plain": [
       "0.8386666666666667"
      ]
     },
     "execution_count": 33,
     "metadata": {},
     "output_type": "execute_result"
    }
   ],
   "source": [
    "rf_model  = RandomForestClassifier(n_estimators=200, random_state=42, n_jobs = -1)\n",
    "scores = cross_val_score(rf_model,X_train_dense,y_train_num,cv=5,n_jobs = -1,scoring = 'accuracy')\n",
    "scores.mean()"
   ]
  },
  {
   "cell_type": "code",
   "execution_count": 34,
   "id": "4d50cffa",
   "metadata": {},
   "outputs": [
    {
     "name": "stdout",
     "output_type": "stream",
     "text": [
      "Predictions ready\n"
     ]
    }
   ],
   "source": [
    "rf_model.fit(X_train_dense, y_train_num)\n",
    "preds=rf_model.predict(X_test_dense)\n",
    "print('Predictions ready')"
   ]
  },
  {
   "cell_type": "code",
   "execution_count": 35,
   "id": "be19d110",
   "metadata": {},
   "outputs": [
    {
     "data": {
      "text/html": [
       "<div>\n",
       "<style scoped>\n",
       "    .dataframe tbody tr th:only-of-type {\n",
       "        vertical-align: middle;\n",
       "    }\n",
       "\n",
       "    .dataframe tbody tr th {\n",
       "        vertical-align: top;\n",
       "    }\n",
       "\n",
       "    .dataframe thead th {\n",
       "        text-align: right;\n",
       "    }\n",
       "</style>\n",
       "<table border=\"1\" class=\"dataframe\">\n",
       "  <thead>\n",
       "    <tr style=\"text-align: right;\">\n",
       "      <th></th>\n",
       "      <th>Complaint</th>\n",
       "      <th>Actual Product</th>\n",
       "      <th>Prediction</th>\n",
       "    </tr>\n",
       "  </thead>\n",
       "  <tbody>\n",
       "    <tr>\n",
       "      <th>65</th>\n",
       "      <td>fire house saved experienced damage insurance ...</td>\n",
       "      <td>mortgages_and_loans</td>\n",
       "      <td>3</td>\n",
       "    </tr>\n",
       "    <tr>\n",
       "      <th>68</th>\n",
       "      <td>hello name trying reach several time get probl...</td>\n",
       "      <td>credit_reporting</td>\n",
       "      <td>1</td>\n",
       "    </tr>\n",
       "    <tr>\n",
       "      <th>670</th>\n",
       "      <td>stayed weekend gentleman checked charged card ...</td>\n",
       "      <td>credit_card</td>\n",
       "      <td>0</td>\n",
       "    </tr>\n",
       "    <tr>\n",
       "      <th>834</th>\n",
       "      <td>two inquiry file need remove never applied cre...</td>\n",
       "      <td>credit_reporting</td>\n",
       "      <td>1</td>\n",
       "    </tr>\n",
       "    <tr>\n",
       "      <th>734</th>\n",
       "      <td>lj ross company never receive written document...</td>\n",
       "      <td>debt_collection</td>\n",
       "      <td>1</td>\n",
       "    </tr>\n",
       "    <tr>\n",
       "      <th>...</th>\n",
       "      <td>...</td>\n",
       "      <td>...</td>\n",
       "      <td>...</td>\n",
       "    </tr>\n",
       "    <tr>\n",
       "      <th>267</th>\n",
       "      <td>block except otherwise provided section consum...</td>\n",
       "      <td>credit_reporting</td>\n",
       "      <td>1</td>\n",
       "    </tr>\n",
       "    <tr>\n",
       "      <th>158</th>\n",
       "      <td>true identity theft im member data breach file...</td>\n",
       "      <td>credit_reporting</td>\n",
       "      <td>1</td>\n",
       "    </tr>\n",
       "    <tr>\n",
       "      <th>82</th>\n",
       "      <td>fidelity capital holding inc acquired consumer...</td>\n",
       "      <td>debt_collection</td>\n",
       "      <td>4</td>\n",
       "    </tr>\n",
       "    <tr>\n",
       "      <th>361</th>\n",
       "      <td>except otherwise provided section consumer rep...</td>\n",
       "      <td>credit_reporting</td>\n",
       "      <td>1</td>\n",
       "    </tr>\n",
       "    <tr>\n",
       "      <th>335</th>\n",
       "      <td>blockexcept otherwise provided section consume...</td>\n",
       "      <td>credit_reporting</td>\n",
       "      <td>1</td>\n",
       "    </tr>\n",
       "  </tbody>\n",
       "</table>\n",
       "<p>250 rows × 3 columns</p>\n",
       "</div>"
      ],
      "text/plain": [
       "                                             Complaint       Actual Product  \\\n",
       "65   fire house saved experienced damage insurance ...  mortgages_and_loans   \n",
       "68   hello name trying reach several time get probl...     credit_reporting   \n",
       "670  stayed weekend gentleman checked charged card ...          credit_card   \n",
       "834  two inquiry file need remove never applied cre...     credit_reporting   \n",
       "734  lj ross company never receive written document...      debt_collection   \n",
       "..                                                 ...                  ...   \n",
       "267  block except otherwise provided section consum...     credit_reporting   \n",
       "158  true identity theft im member data breach file...     credit_reporting   \n",
       "82   fidelity capital holding inc acquired consumer...      debt_collection   \n",
       "361  except otherwise provided section consumer rep...     credit_reporting   \n",
       "335  blockexcept otherwise provided section consume...     credit_reporting   \n",
       "\n",
       "     Prediction  \n",
       "65            3  \n",
       "68            1  \n",
       "670           0  \n",
       "834           1  \n",
       "734           1  \n",
       "..          ...  \n",
       "267           1  \n",
       "158           1  \n",
       "82            4  \n",
       "361           1  \n",
       "335           1  \n",
       "\n",
       "[250 rows x 3 columns]"
      ]
     },
     "execution_count": 35,
     "metadata": {},
     "output_type": "execute_result"
    }
   ],
   "source": [
    "report = pd.DataFrame(columns=['Complaint','Actual Product','Prediction'])\n",
    "report['Complaint']      = X_test\n",
    "report['Actual Product'] = y_test \n",
    "report['Prediction']     = preds\n",
    "report"
   ]
  },
  {
   "cell_type": "code",
   "execution_count": 36,
   "id": "11d9117b",
   "metadata": {},
   "outputs": [
    {
     "data": {
      "text/html": [
       "<div>\n",
       "<style scoped>\n",
       "    .dataframe tbody tr th:only-of-type {\n",
       "        vertical-align: middle;\n",
       "    }\n",
       "\n",
       "    .dataframe tbody tr th {\n",
       "        vertical-align: top;\n",
       "    }\n",
       "\n",
       "    .dataframe thead th {\n",
       "        text-align: right;\n",
       "    }\n",
       "</style>\n",
       "<table border=\"1\" class=\"dataframe\">\n",
       "  <thead>\n",
       "    <tr style=\"text-align: right;\">\n",
       "      <th></th>\n",
       "      <th>Complaint</th>\n",
       "      <th>Actual Product</th>\n",
       "      <th>Prediction</th>\n",
       "    </tr>\n",
       "  </thead>\n",
       "  <tbody>\n",
       "    <tr>\n",
       "      <th>65</th>\n",
       "      <td>fire house saved experienced damage insurance ...</td>\n",
       "      <td>mortgages_and_loans</td>\n",
       "      <td>3</td>\n",
       "    </tr>\n",
       "    <tr>\n",
       "      <th>68</th>\n",
       "      <td>hello name trying reach several time get probl...</td>\n",
       "      <td>credit_reporting</td>\n",
       "      <td>1</td>\n",
       "    </tr>\n",
       "    <tr>\n",
       "      <th>670</th>\n",
       "      <td>stayed weekend gentleman checked charged card ...</td>\n",
       "      <td>credit_card</td>\n",
       "      <td>0</td>\n",
       "    </tr>\n",
       "    <tr>\n",
       "      <th>834</th>\n",
       "      <td>two inquiry file need remove never applied cre...</td>\n",
       "      <td>credit_reporting</td>\n",
       "      <td>1</td>\n",
       "    </tr>\n",
       "    <tr>\n",
       "      <th>734</th>\n",
       "      <td>lj ross company never receive written document...</td>\n",
       "      <td>debt_collection</td>\n",
       "      <td>1</td>\n",
       "    </tr>\n",
       "    <tr>\n",
       "      <th>...</th>\n",
       "      <td>...</td>\n",
       "      <td>...</td>\n",
       "      <td>...</td>\n",
       "    </tr>\n",
       "    <tr>\n",
       "      <th>267</th>\n",
       "      <td>block except otherwise provided section consum...</td>\n",
       "      <td>credit_reporting</td>\n",
       "      <td>1</td>\n",
       "    </tr>\n",
       "    <tr>\n",
       "      <th>158</th>\n",
       "      <td>true identity theft im member data breach file...</td>\n",
       "      <td>credit_reporting</td>\n",
       "      <td>1</td>\n",
       "    </tr>\n",
       "    <tr>\n",
       "      <th>82</th>\n",
       "      <td>fidelity capital holding inc acquired consumer...</td>\n",
       "      <td>debt_collection</td>\n",
       "      <td>4</td>\n",
       "    </tr>\n",
       "    <tr>\n",
       "      <th>361</th>\n",
       "      <td>except otherwise provided section consumer rep...</td>\n",
       "      <td>credit_reporting</td>\n",
       "      <td>1</td>\n",
       "    </tr>\n",
       "    <tr>\n",
       "      <th>335</th>\n",
       "      <td>blockexcept otherwise provided section consume...</td>\n",
       "      <td>credit_reporting</td>\n",
       "      <td>1</td>\n",
       "    </tr>\n",
       "  </tbody>\n",
       "</table>\n",
       "<p>250 rows × 3 columns</p>\n",
       "</div>"
      ],
      "text/plain": [
       "                                             Complaint       Actual Product  \\\n",
       "65   fire house saved experienced damage insurance ...  mortgages_and_loans   \n",
       "68   hello name trying reach several time get probl...     credit_reporting   \n",
       "670  stayed weekend gentleman checked charged card ...          credit_card   \n",
       "834  two inquiry file need remove never applied cre...     credit_reporting   \n",
       "734  lj ross company never receive written document...      debt_collection   \n",
       "..                                                 ...                  ...   \n",
       "267  block except otherwise provided section consum...     credit_reporting   \n",
       "158  true identity theft im member data breach file...     credit_reporting   \n",
       "82   fidelity capital holding inc acquired consumer...      debt_collection   \n",
       "361  except otherwise provided section consumer rep...     credit_reporting   \n",
       "335  blockexcept otherwise provided section consume...     credit_reporting   \n",
       "\n",
       "     Prediction  \n",
       "65            3  \n",
       "68            1  \n",
       "670           0  \n",
       "834           1  \n",
       "734           1  \n",
       "..          ...  \n",
       "267           1  \n",
       "158           1  \n",
       "82            4  \n",
       "361           1  \n",
       "335           1  \n",
       "\n",
       "[250 rows x 3 columns]"
      ]
     },
     "execution_count": 36,
     "metadata": {},
     "output_type": "execute_result"
    }
   ],
   "source": [
    "report = pd.DataFrame(columns=['Complaint','Actual Product','Prediction'])\n",
    "report['Complaint']      = X_test\n",
    "report['Actual Product'] = y_test \n",
    "report['Prediction']     = preds\n",
    "report"
   ]
  },
  {
   "cell_type": "code",
   "execution_count": 38,
   "id": "0ea87c69",
   "metadata": {},
   "outputs": [
    {
     "data": {
      "text/html": [
       "<div>\n",
       "<style scoped>\n",
       "    .dataframe tbody tr th:only-of-type {\n",
       "        vertical-align: middle;\n",
       "    }\n",
       "\n",
       "    .dataframe tbody tr th {\n",
       "        vertical-align: top;\n",
       "    }\n",
       "\n",
       "    .dataframe thead th {\n",
       "        text-align: right;\n",
       "    }\n",
       "</style>\n",
       "<table border=\"1\" class=\"dataframe\">\n",
       "  <thead>\n",
       "    <tr style=\"text-align: right;\">\n",
       "      <th></th>\n",
       "      <th>Complaint</th>\n",
       "      <th>Actual Product</th>\n",
       "      <th>Prediction</th>\n",
       "      <th>Correct</th>\n",
       "    </tr>\n",
       "  </thead>\n",
       "  <tbody>\n",
       "    <tr>\n",
       "      <th>65</th>\n",
       "      <td>fire house saved experienced damage insurance ...</td>\n",
       "      <td>mortgages_and_loans</td>\n",
       "      <td>3</td>\n",
       "      <td>0</td>\n",
       "    </tr>\n",
       "    <tr>\n",
       "      <th>68</th>\n",
       "      <td>hello name trying reach several time get probl...</td>\n",
       "      <td>credit_reporting</td>\n",
       "      <td>1</td>\n",
       "      <td>0</td>\n",
       "    </tr>\n",
       "    <tr>\n",
       "      <th>670</th>\n",
       "      <td>stayed weekend gentleman checked charged card ...</td>\n",
       "      <td>credit_card</td>\n",
       "      <td>0</td>\n",
       "      <td>0</td>\n",
       "    </tr>\n",
       "    <tr>\n",
       "      <th>834</th>\n",
       "      <td>two inquiry file need remove never applied cre...</td>\n",
       "      <td>credit_reporting</td>\n",
       "      <td>1</td>\n",
       "      <td>0</td>\n",
       "    </tr>\n",
       "    <tr>\n",
       "      <th>734</th>\n",
       "      <td>lj ross company never receive written document...</td>\n",
       "      <td>debt_collection</td>\n",
       "      <td>1</td>\n",
       "      <td>0</td>\n",
       "    </tr>\n",
       "    <tr>\n",
       "      <th>...</th>\n",
       "      <td>...</td>\n",
       "      <td>...</td>\n",
       "      <td>...</td>\n",
       "      <td>...</td>\n",
       "    </tr>\n",
       "    <tr>\n",
       "      <th>267</th>\n",
       "      <td>block except otherwise provided section consum...</td>\n",
       "      <td>credit_reporting</td>\n",
       "      <td>1</td>\n",
       "      <td>0</td>\n",
       "    </tr>\n",
       "    <tr>\n",
       "      <th>158</th>\n",
       "      <td>true identity theft im member data breach file...</td>\n",
       "      <td>credit_reporting</td>\n",
       "      <td>1</td>\n",
       "      <td>0</td>\n",
       "    </tr>\n",
       "    <tr>\n",
       "      <th>82</th>\n",
       "      <td>fidelity capital holding inc acquired consumer...</td>\n",
       "      <td>debt_collection</td>\n",
       "      <td>4</td>\n",
       "      <td>0</td>\n",
       "    </tr>\n",
       "    <tr>\n",
       "      <th>361</th>\n",
       "      <td>except otherwise provided section consumer rep...</td>\n",
       "      <td>credit_reporting</td>\n",
       "      <td>1</td>\n",
       "      <td>0</td>\n",
       "    </tr>\n",
       "    <tr>\n",
       "      <th>335</th>\n",
       "      <td>blockexcept otherwise provided section consume...</td>\n",
       "      <td>credit_reporting</td>\n",
       "      <td>1</td>\n",
       "      <td>0</td>\n",
       "    </tr>\n",
       "  </tbody>\n",
       "</table>\n",
       "<p>250 rows × 4 columns</p>\n",
       "</div>"
      ],
      "text/plain": [
       "                                             Complaint       Actual Product  \\\n",
       "65   fire house saved experienced damage insurance ...  mortgages_and_loans   \n",
       "68   hello name trying reach several time get probl...     credit_reporting   \n",
       "670  stayed weekend gentleman checked charged card ...          credit_card   \n",
       "834  two inquiry file need remove never applied cre...     credit_reporting   \n",
       "734  lj ross company never receive written document...      debt_collection   \n",
       "..                                                 ...                  ...   \n",
       "267  block except otherwise provided section consum...     credit_reporting   \n",
       "158  true identity theft im member data breach file...     credit_reporting   \n",
       "82   fidelity capital holding inc acquired consumer...      debt_collection   \n",
       "361  except otherwise provided section consumer rep...     credit_reporting   \n",
       "335  blockexcept otherwise provided section consume...     credit_reporting   \n",
       "\n",
       "     Prediction  Correct  \n",
       "65            3        0  \n",
       "68            1        0  \n",
       "670           0        0  \n",
       "834           1        0  \n",
       "734           1        0  \n",
       "..          ...      ...  \n",
       "267           1        0  \n",
       "158           1        0  \n",
       "82            4        0  \n",
       "361           1        0  \n",
       "335           1        0  \n",
       "\n",
       "[250 rows x 4 columns]"
      ]
     },
     "metadata": {},
     "output_type": "display_data"
    },
    {
     "name": "stdout",
     "output_type": "stream",
     "text": [
      "Accuracy: 0.0 %\n"
     ]
    }
   ],
   "source": [
    "report['Correct'] = (report['Actual Product'] == report['Prediction']).astype('int')\n",
    "display(report)\n",
    "print(f'Accuracy: {100*report.Correct.sum()/report.Correct.count()} %')"
   ]
  },
  {
   "cell_type": "code",
   "execution_count": 42,
   "id": "f20ca8d2",
   "metadata": {},
   "outputs": [
    {
     "name": "stderr",
     "output_type": "stream",
     "text": [
      "C:\\Users\\yoges\\AppData\\Local\\Temp\\ipykernel_13476\\1135469796.py:2: FutureWarning: The default value of numeric_only in DataFrameGroupBy.sum is deprecated. In a future version, numeric_only will default to False. Either specify numeric_only or select only columns which should be valid for the function.\n",
      "  r['Correctly Predicted'] = report.groupby('Actual Product').sum()['Correct']\n"
     ]
    },
    {
     "data": {
      "text/html": [
       "<div>\n",
       "<style scoped>\n",
       "    .dataframe tbody tr th:only-of-type {\n",
       "        vertical-align: middle;\n",
       "    }\n",
       "\n",
       "    .dataframe tbody tr th {\n",
       "        vertical-align: top;\n",
       "    }\n",
       "\n",
       "    .dataframe thead th {\n",
       "        text-align: right;\n",
       "    }\n",
       "</style>\n",
       "<table border=\"1\" class=\"dataframe\">\n",
       "  <thead>\n",
       "    <tr style=\"text-align: right;\">\n",
       "      <th></th>\n",
       "      <th>Correctly Predicted</th>\n",
       "      <th>Overall Predicted</th>\n",
       "      <th>Actuals</th>\n",
       "    </tr>\n",
       "    <tr>\n",
       "      <th>Actual Product</th>\n",
       "      <th></th>\n",
       "      <th></th>\n",
       "      <th></th>\n",
       "    </tr>\n",
       "  </thead>\n",
       "  <tbody>\n",
       "    <tr>\n",
       "      <th>credit_card</th>\n",
       "      <td>0</td>\n",
       "      <td>NaN</td>\n",
       "      <td>20</td>\n",
       "    </tr>\n",
       "    <tr>\n",
       "      <th>credit_reporting</th>\n",
       "      <td>0</td>\n",
       "      <td>NaN</td>\n",
       "      <td>155</td>\n",
       "    </tr>\n",
       "    <tr>\n",
       "      <th>debt_collection</th>\n",
       "      <td>0</td>\n",
       "      <td>NaN</td>\n",
       "      <td>28</td>\n",
       "    </tr>\n",
       "    <tr>\n",
       "      <th>mortgages_and_loans</th>\n",
       "      <td>0</td>\n",
       "      <td>NaN</td>\n",
       "      <td>27</td>\n",
       "    </tr>\n",
       "    <tr>\n",
       "      <th>retail_banking</th>\n",
       "      <td>0</td>\n",
       "      <td>NaN</td>\n",
       "      <td>20</td>\n",
       "    </tr>\n",
       "  </tbody>\n",
       "</table>\n",
       "</div>"
      ],
      "text/plain": [
       "                     Correctly Predicted  Overall Predicted  Actuals\n",
       "Actual Product                                                      \n",
       "credit_card                            0                NaN       20\n",
       "credit_reporting                       0                NaN      155\n",
       "debt_collection                        0                NaN       28\n",
       "mortgages_and_loans                    0                NaN       27\n",
       "retail_banking                         0                NaN       20"
      ]
     },
     "execution_count": 42,
     "metadata": {},
     "output_type": "execute_result"
    }
   ],
   "source": [
    "r = pd.DataFrame()\n",
    "r['Correctly Predicted'] = report.groupby('Actual Product').sum()['Correct']\n",
    "r['Overall Predicted']   = report.groupby('Prediction').count()['Correct']\n",
    "r['Actuals']             = report.groupby('Actual Product').count()['Correct']\n",
    "r"
   ]
  },
  {
   "cell_type": "code",
   "execution_count": 40,
   "id": "8283a096",
   "metadata": {},
   "outputs": [
    {
     "name": "stderr",
     "output_type": "stream",
     "text": [
      "C:\\Users\\yoges\\AppData\\Local\\Temp\\ipykernel_13476\\1135469796.py:2: FutureWarning: The default value of numeric_only in DataFrameGroupBy.sum is deprecated. In a future version, numeric_only will default to False. Either specify numeric_only or select only columns which should be valid for the function.\n",
      "  r['Correctly Predicted'] = report.groupby('Actual Product').sum()['Correct']\n"
     ]
    },
    {
     "data": {
      "text/html": [
       "<div>\n",
       "<style scoped>\n",
       "    .dataframe tbody tr th:only-of-type {\n",
       "        vertical-align: middle;\n",
       "    }\n",
       "\n",
       "    .dataframe tbody tr th {\n",
       "        vertical-align: top;\n",
       "    }\n",
       "\n",
       "    .dataframe thead th {\n",
       "        text-align: right;\n",
       "    }\n",
       "</style>\n",
       "<table border=\"1\" class=\"dataframe\">\n",
       "  <thead>\n",
       "    <tr style=\"text-align: right;\">\n",
       "      <th></th>\n",
       "      <th>Correctly Predicted</th>\n",
       "      <th>Overall Predicted</th>\n",
       "      <th>Actuals</th>\n",
       "    </tr>\n",
       "    <tr>\n",
       "      <th>Actual Product</th>\n",
       "      <th></th>\n",
       "      <th></th>\n",
       "      <th></th>\n",
       "    </tr>\n",
       "  </thead>\n",
       "  <tbody>\n",
       "    <tr>\n",
       "      <th>credit_card</th>\n",
       "      <td>0</td>\n",
       "      <td>NaN</td>\n",
       "      <td>20</td>\n",
       "    </tr>\n",
       "    <tr>\n",
       "      <th>credit_reporting</th>\n",
       "      <td>0</td>\n",
       "      <td>NaN</td>\n",
       "      <td>155</td>\n",
       "    </tr>\n",
       "    <tr>\n",
       "      <th>debt_collection</th>\n",
       "      <td>0</td>\n",
       "      <td>NaN</td>\n",
       "      <td>28</td>\n",
       "    </tr>\n",
       "    <tr>\n",
       "      <th>mortgages_and_loans</th>\n",
       "      <td>0</td>\n",
       "      <td>NaN</td>\n",
       "      <td>27</td>\n",
       "    </tr>\n",
       "    <tr>\n",
       "      <th>retail_banking</th>\n",
       "      <td>0</td>\n",
       "      <td>NaN</td>\n",
       "      <td>20</td>\n",
       "    </tr>\n",
       "  </tbody>\n",
       "</table>\n",
       "</div>"
      ],
      "text/plain": [
       "                     Correctly Predicted  Overall Predicted  Actuals\n",
       "Actual Product                                                      \n",
       "credit_card                            0                NaN       20\n",
       "credit_reporting                       0                NaN      155\n",
       "debt_collection                        0                NaN       28\n",
       "mortgages_and_loans                    0                NaN       27\n",
       "retail_banking                         0                NaN       20"
      ]
     },
     "execution_count": 40,
     "metadata": {},
     "output_type": "execute_result"
    }
   ],
   "source": [
    "r = pd.DataFrame()\n",
    "r['Correctly Predicted'] = report.groupby('Actual Product').sum()['Correct']\n",
    "r['Overall Predicted']   = report.groupby('Prediction').count()['Correct']\n",
    "r['Actuals']             = report.groupby('Actual Product').count()['Correct']\n",
    "r"
   ]
  },
  {
   "cell_type": "code",
   "execution_count": 43,
   "id": "f4d0d162",
   "metadata": {},
   "outputs": [
    {
     "name": "stdout",
     "output_type": "stream",
     "text": [
      "0.836\n"
     ]
    }
   ],
   "source": [
    "print(rf_model.score(X_test_dense, y_test_num))"
   ]
  },
  {
   "cell_type": "code",
   "execution_count": 45,
   "id": "9dbf3925",
   "metadata": {},
   "outputs": [
    {
     "name": "stdout",
     "output_type": "stream",
     "text": [
      "custom function defined\n"
     ]
    }
   ],
   "source": [
    "from sklearn.metrics import confusion_matrix\n",
    "def plot_confusion_matrix(cm,labels,size=10, rotate_labels=False):\n",
    "    '''\n",
    "    This function receives a confusion matrix object and plots it out using seaborn\n",
    "    '''\n",
    "    import seaborn as sns\n",
    "    import matplotlib.pyplot as plt\n",
    "    font_specs = {\"size\": 20, 'fontweight':'bold'}\n",
    "    title_specs= {\"size\": 16, 'fontweight':'bold'}\n",
    "    figsize = size\n",
    "    fig, ax = plt.subplots(figsize = (figsize,figsize), facecolor = '#ebebeb', frameon = True, edgecolor = 'black')\n",
    "    ax = sns.heatmap(cm,annot=True, cbar = False, cmap = 'Blues',linewidths=5,\n",
    "                  linecolor='#ebebeb', annot_kws=font_specs, fmt='g')\n",
    "    plt.xlabel('Predicted', fontdict = font_specs, labelpad=-(figsize*65))\n",
    "    plt.ylabel('Actual', fontdict = font_specs, labelpad=15)\n",
    "    ax.xaxis.set_ticklabels(labels)\n",
    "    ax.yaxis.set_ticklabels(labels)\n",
    "    if rotate_labels:\n",
    "        ax.set_xticklabels(labels, rotation=90, ha='center')    \n",
    "        ax.set_yticklabels(labels, rotation=0, ha='right')    \n",
    "    \n",
    "    ax.tick_params(labelbottom=False, labeltop=True, labelsize = 12, colors ='#151736' )\n",
    "    plt.title('CONFUSION MATRIX',loc = 'right', pad = figsize*4 , fontdict = title_specs)\n",
    "    plt.show()\n",
    "print('custom function defined') "
   ]
  },
  {
   "cell_type": "code",
   "execution_count": 46,
   "id": "e8e89503",
   "metadata": {},
   "outputs": [
    {
     "data": {
      "image/png": "[encoded data removed]",
      "text/plain": [
       "<Figure size 1200x1200 with 1 Axes>"
      ]
     },
     "metadata": {},
     "output_type": "display_data"
    }
   ],
   "source": [
    "cm = confusion_matrix(y_test, preds, labels=encoder.classes_)\n",
    "plot_confusion_matrix(cm=cm,labels=encoder.classes_, size=12, rotate_labels=True)"
   ]
  },
  {
   "cell_type": "code",
   "execution_count": 57,
   "id": "aeac7992",
   "metadata": {},
   "outputs": [],
   "source": [
    "import matplotlib.pyplot as plt\n",
    "import seaborn as sns"
   ]
  },
  {
   "cell_type": "code",
   "execution_count": 62,
   "id": "f17dc0ea",
   "metadata": {},
   "outputs": [
    {
     "data": {
      "text/plain": [
       "[<matplotlib.lines.Line2D at 0x211a1c4a1a0>]"
      ]
     },
     "execution_count": 62,
     "metadata": {},
     "output_type": "execute_result"
    },
    {
     "data": {
      "image/png": "[encoded data removed]",
      "text/plain": [
       "<Figure size 640x480 with 1 Axes>"
      ]
     },
     "metadata": {},
     "output_type": "display_data"
    }
   ],
   "source": [
    "word_length = [len(x) for x in df['narrative']]\n",
    "plt.plot(word_length)"
   ]
  },
  {
   "cell_type": "code",
   "execution_count": 63,
   "id": "f9858352",
   "metadata": {},
   "outputs": [
    {
     "data": {
      "image/png": "[encoded data removed]",
      "text/plain": [
       "<Figure size 640x480 with 1 Axes>"
      ]
     },
     "metadata": {},
     "output_type": "display_data"
    }
   ],
   "source": [
    "df.groupby('product').count().plot(kind='bar')\n",
    "plt.show()"
   ]
  },
  {
   "cell_type": "code",
   "execution_count": 71,
   "id": "9e747a1b",
   "metadata": {},
   "outputs": [],
   "source": [
    "from tensorflow.keras.layers import Dense, Input, LSTM, Embedding, Dropout, Activation\n",
    "from tensorflow.keras.layers import Bidirectional, GlobalMaxPool1D, Conv1D, SimpleRNN\n",
    "from tensorflow.keras.models import Model\n",
    "from tensorflow.keras.models import Sequential\n",
    "from tensorflow.keras import initializers, regularizers, constraints, optimizers, layers\n",
    "from tensorflow.keras.layers import Dense, Input, Input, Flatten, Dropout, BatchNormalization\n",
    "from tensorflow.keras.layers import Conv1D, MaxPooling1D, Embedding "
   ]
  },
  {
   "cell_type": "code",
   "execution_count": 77,
   "id": "57d37871",
   "metadata": {},
   "outputs": [],
   "source": [
    "max_words = 2500 \n",
    "max_sequence_length = 170\n",
    "embedding_dim = 32 "
   ]
  },
  {
   "cell_type": "code",
   "execution_count": 78,
   "id": "35553654",
   "metadata": {},
   "outputs": [
    {
     "name": "stdout",
     "output_type": "stream",
     "text": [
      "Model: \"sequential_4\"\n",
      "_________________________________________________________________\n",
      " Layer (type)                Output Shape              Param #   \n",
      "=================================================================\n",
      " embedding (Embedding)       (None, 170, 32)           80000     \n",
      "                                                                 \n",
      " bidirectional (Bidirection  (None, 170, 32)           6272      \n",
      " al)                                                             \n",
      "                                                                 \n",
      " global_max_pooling1d (Glob  (None, 32)                0         \n",
      " alMaxPooling1D)                                                 \n",
      "                                                                 \n",
      " dense (Dense)               (None, 5)                 165       \n",
      "                                                                 \n",
      "=================================================================\n",
      "Total params: 86437 (337.64 KB)\n",
      "Trainable params: 86437 (337.64 KB)\n",
      "Non-trainable params: 0 (0.00 Byte)\n",
      "_________________________________________________________________\n"
     ]
    }
   ],
   "source": [
    "model = Sequential()\n",
    "model.add(Embedding(max_words, \n",
    "                   embedding_dim,\n",
    "                   input_length=max_sequence_length))\n",
    "\n",
    "# Bidirectional LSTM \n",
    "model.add(Bidirectional(LSTM(16, return_sequences=True, dropout=0.4, recurrent_dropout=0)))   \n",
    "\n",
    "model.add(GlobalMaxPool1D())\n",
    "\n",
    "model.add(Dense(5,activation='softmax'))  \n",
    "\n",
    "model.summary()"
   ]
  }
 ],
 "metadata": {
  "kernelspec": {
   "display_name": "Python 3 (ipykernel)",
   "language": "python",
   "name": "python3"
  },
  "language_info": {
   "codemirror_mode": {
    "name": "ipython",
    "version": 3
   },
   "file_extension": ".py",
   "mimetype": "text/x-python",
   "name": "python",
   "nbconvert_exporter": "python",
   "pygments_lexer": "ipython3",
   "version": "3.10.9"
  }
 },
 "nbformat": 4,
 "nbformat_minor": 5
}
